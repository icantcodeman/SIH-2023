{
 "cells": [
  {
   "cell_type": "markdown",
   "metadata": {},
   "source": [
    "Prerequisites"
   ]
  },
  {
   "cell_type": "code",
   "execution_count": 1,
   "metadata": {},
   "outputs": [
    {
     "name": "stdout",
     "output_type": "stream",
     "text": [
      "Requirement already satisfied: SpeechRecognition in d:\\pinak\\studies\\anaconda\\lib\\site-packages (3.10.0)\n",
      "Requirement already satisfied: requests>=2.26.0 in d:\\pinak\\studies\\anaconda\\lib\\site-packages (from SpeechRecognition) (2.31.0)\n",
      "Requirement already satisfied: charset-normalizer<4,>=2 in d:\\pinak\\studies\\anaconda\\lib\\site-packages (from requests>=2.26.0->SpeechRecognition) (3.2.0)\n",
      "Requirement already satisfied: certifi>=2017.4.17 in d:\\pinak\\studies\\anaconda\\lib\\site-packages (from requests>=2.26.0->SpeechRecognition) (2020.12.5)\n",
      "Requirement already satisfied: idna<4,>=2.5 in d:\\pinak\\studies\\anaconda\\lib\\site-packages (from requests>=2.26.0->SpeechRecognition) (2.10)\n",
      "Requirement already satisfied: urllib3<3,>=1.21.1 in d:\\pinak\\studies\\anaconda\\lib\\site-packages (from requests>=2.26.0->SpeechRecognition) (1.26.4)\n",
      "Note: you may need to restart the kernel to use updated packages.\n"
     ]
    }
   ],
   "source": [
    "pip install SpeechRecognition"
   ]
  },
  {
   "cell_type": "code",
   "execution_count": 2,
   "metadata": {},
   "outputs": [
    {
     "name": "stdout",
     "output_type": "stream",
     "text": [
      "Requirement already satisfied: pyaudio in d:\\pinak\\studies\\anaconda\\lib\\site-packages (0.2.13)\n",
      "Note: you may need to restart the kernel to use updated packages.\n"
     ]
    }
   ],
   "source": [
    "pip install pyaudio"
   ]
  },
  {
   "cell_type": "code",
   "execution_count": 4,
   "metadata": {},
   "outputs": [
    {
     "name": "stdout",
     "output_type": "stream",
     "text": [
      "Requirement already satisfied: moviepy in d:\\pinak\\studies\\anaconda\\lib\\site-packages (1.0.3)\n",
      "Requirement already satisfied: SpeechRecognition in d:\\pinak\\studies\\anaconda\\lib\\site-packages (3.10.0)\n",
      "Requirement already satisfied: requests<3.0,>=2.8.1 in d:\\pinak\\studies\\anaconda\\lib\\site-packages (from moviepy) (2.31.0)\n",
      "Requirement already satisfied: imageio-ffmpeg>=0.2.0 in d:\\pinak\\studies\\anaconda\\lib\\site-packages (from moviepy) (0.4.9)\n",
      "Requirement already satisfied: numpy>=1.17.3 in d:\\pinak\\studies\\anaconda\\lib\\site-packages (from moviepy) (1.20.1)\n",
      "Requirement already satisfied: decorator<5.0,>=4.0.2 in d:\\pinak\\studies\\anaconda\\lib\\site-packages (from moviepy) (4.4.2)\n",
      "Requirement already satisfied: tqdm<5.0,>=4.11.2 in d:\\pinak\\studies\\anaconda\\lib\\site-packages (from moviepy) (4.59.0)\n",
      "Requirement already satisfied: imageio<3.0,>=2.5 in d:\\pinak\\studies\\anaconda\\lib\\site-packages (from moviepy) (2.9.0)\n",
      "Requirement already satisfied: proglog<=1.0.0 in d:\\pinak\\studies\\anaconda\\lib\\site-packages (from moviepy) (0.1.10)\n",
      "Requirement already satisfied: pillow in d:\\pinak\\studies\\anaconda\\lib\\site-packages (from imageio<3.0,>=2.5->moviepy) (8.2.0)\n",
      "Requirement already satisfied: setuptools in d:\\pinak\\studies\\anaconda\\lib\\site-packages (from imageio-ffmpeg>=0.2.0->moviepy) (52.0.0.post20210125)\n",
      "Requirement already satisfied: urllib3<3,>=1.21.1 in d:\\pinak\\studies\\anaconda\\lib\\site-packages (from requests<3.0,>=2.8.1->moviepy) (1.26.4)\n",
      "Requirement already satisfied: certifi>=2017.4.17 in d:\\pinak\\studies\\anaconda\\lib\\site-packages (from requests<3.0,>=2.8.1->moviepy) (2020.12.5)\n",
      "Requirement already satisfied: charset-normalizer<4,>=2 in d:\\pinak\\studies\\anaconda\\lib\\site-packages (from requests<3.0,>=2.8.1->moviepy) (3.2.0)\n",
      "Requirement already satisfied: idna<4,>=2.5 in d:\\pinak\\studies\\anaconda\\lib\\site-packages (from requests<3.0,>=2.8.1->moviepy) (2.10)\n",
      "Note: you may need to restart the kernel to use updated packages.\n"
     ]
    }
   ],
   "source": [
    "pip install moviepy SpeechRecognition"
   ]
  },
  {
   "cell_type": "code",
   "execution_count": 7,
   "metadata": {},
   "outputs": [
    {
     "name": "stdout",
     "output_type": "stream",
     "text": [
      "Requirement already satisfied: Pillow in d:\\pinak\\studies\\anaconda\\lib\\site-packages (8.2.0)Note: you may need to restart the kernel to use updated packages.\n",
      "\n"
     ]
    }
   ],
   "source": [
    "pip install Pillow"
   ]
  },
  {
   "cell_type": "markdown",
   "metadata": {},
   "source": [
    "Converting audio to transcript"
   ]
  },
  {
   "cell_type": "code",
   "execution_count": 3,
   "metadata": {},
   "outputs": [
    {
     "name": "stdout",
     "output_type": "stream",
     "text": [
      "Transcript:\n",
      "Could not request results; recognition request failed: Bad Request\n"
     ]
    }
   ],
   "source": [
    "import speech_recognition as sr\n",
    "\n",
    "def transcribe_audio(audio_file):\n",
    "    recognizer = sr.Recognizer()\n",
    "    \n",
    "    try:\n",
    "        with sr.AudioFile(audio_file) as source:\n",
    "            audio = recognizer.record(source)  # Record the entire audio file\n",
    "            \n",
    "        transcript = recognizer.recognize_google(audio)  # Use Google Web Speech API for transcription\n",
    "        return transcript\n",
    "    except sr.UnknownValueError:\n",
    "        return \"Could not understand the audio\"\n",
    "    except sr.RequestError as e:\n",
    "        return f\"Could not request results; {e}\"\n",
    "\n",
    "if __name__ == \"__main__\":\n",
    "    audio_file = \"Negative-call.wav\"  # Replace with the path to your audio file\n",
    "    transcript = transcribe_audio(audio_file)\n",
    "    \n",
    "    print(\"Transcript:\")\n",
    "    print(transcript)"
   ]
  },
  {
   "cell_type": "code",
   "execution_count": 5,
   "metadata": {},
   "outputs": [
    {
     "ename": "AssertionError",
     "evalue": "``audio_data`` must be audio data",
     "output_type": "error",
     "traceback": [
      "\u001b[1;31m---------------------------------------------------------------------------\u001b[0m",
      "\u001b[1;31mAssertionError\u001b[0m                            Traceback (most recent call last)",
      "\u001b[1;32m<ipython-input-5-467d40d08a53>\u001b[0m in \u001b[0;36m<module>\u001b[1;34m\u001b[0m\n\u001b[0;32m     29\u001b[0m \u001b[1;32mif\u001b[0m \u001b[0m__name__\u001b[0m \u001b[1;33m==\u001b[0m \u001b[1;34m\"__main__\"\u001b[0m\u001b[1;33m:\u001b[0m\u001b[1;33m\u001b[0m\u001b[1;33m\u001b[0m\u001b[0m\n\u001b[0;32m     30\u001b[0m     \u001b[0maudio_file\u001b[0m \u001b[1;33m=\u001b[0m \u001b[1;34m\"Negative-call.m4a\"\u001b[0m  \u001b[1;31m# Replace with the path to your audio file (supporting various formats)\u001b[0m\u001b[1;33m\u001b[0m\u001b[1;33m\u001b[0m\u001b[0m\n\u001b[1;32m---> 31\u001b[1;33m     \u001b[0mtranscript\u001b[0m \u001b[1;33m=\u001b[0m \u001b[0mtranscribe_audio\u001b[0m\u001b[1;33m(\u001b[0m\u001b[0maudio_file\u001b[0m\u001b[1;33m)\u001b[0m\u001b[1;33m\u001b[0m\u001b[1;33m\u001b[0m\u001b[0m\n\u001b[0m\u001b[0;32m     32\u001b[0m \u001b[1;33m\u001b[0m\u001b[0m\n\u001b[0;32m     33\u001b[0m     \u001b[0mprint\u001b[0m\u001b[1;33m(\u001b[0m\u001b[1;34m\"Transcript:\"\u001b[0m\u001b[1;33m)\u001b[0m\u001b[1;33m\u001b[0m\u001b[1;33m\u001b[0m\u001b[0m\n",
      "\u001b[1;32m<ipython-input-5-467d40d08a53>\u001b[0m in \u001b[0;36mtranscribe_audio\u001b[1;34m(audio_file)\u001b[0m\n\u001b[0;32m     19\u001b[0m \u001b[1;33m\u001b[0m\u001b[0m\n\u001b[0;32m     20\u001b[0m         \u001b[1;31m# Recognize the audio using SpeechRecognition\u001b[0m\u001b[1;33m\u001b[0m\u001b[1;33m\u001b[0m\u001b[1;33m\u001b[0m\u001b[0m\n\u001b[1;32m---> 21\u001b[1;33m         \u001b[0mtranscript\u001b[0m \u001b[1;33m=\u001b[0m \u001b[0mrecognizer\u001b[0m\u001b[1;33m.\u001b[0m\u001b[0mrecognize_google\u001b[0m\u001b[1;33m(\u001b[0m\u001b[0maudio_bytes\u001b[0m\u001b[1;33m)\u001b[0m\u001b[1;33m\u001b[0m\u001b[1;33m\u001b[0m\u001b[0m\n\u001b[0m\u001b[0;32m     22\u001b[0m \u001b[1;33m\u001b[0m\u001b[0m\n\u001b[0;32m     23\u001b[0m         \u001b[1;32mreturn\u001b[0m \u001b[0mtranscript\u001b[0m\u001b[1;33m\u001b[0m\u001b[1;33m\u001b[0m\u001b[0m\n",
      "\u001b[1;32md:\\Pinak\\Studies\\Anaconda\\lib\\site-packages\\speech_recognition\\__init__.py\u001b[0m in \u001b[0;36mrecognize_google\u001b[1;34m(self, audio_data, key, language, pfilter, show_all, with_confidence)\u001b[0m\n\u001b[0;32m    687\u001b[0m         \u001b[0mRaises\u001b[0m \u001b[0ma\u001b[0m\u001b[0;31m \u001b[0m\u001b[0;31m`\u001b[0m\u001b[0;31m`\u001b[0m\u001b[0mspeech_recognition\u001b[0m\u001b[1;33m.\u001b[0m\u001b[0mUnknownValueError\u001b[0m\u001b[0;31m`\u001b[0m\u001b[0;31m`\u001b[0m \u001b[0mexception\u001b[0m \u001b[1;32mif\u001b[0m \u001b[0mthe\u001b[0m \u001b[0mspeech\u001b[0m \u001b[1;32mis\u001b[0m \u001b[0munintelligible\u001b[0m\u001b[1;33m.\u001b[0m \u001b[0mRaises\u001b[0m \u001b[0ma\u001b[0m\u001b[0;31m \u001b[0m\u001b[0;31m`\u001b[0m\u001b[0;31m`\u001b[0m\u001b[0mspeech_recognition\u001b[0m\u001b[1;33m.\u001b[0m\u001b[0mRequestError\u001b[0m\u001b[0;31m`\u001b[0m\u001b[0;31m`\u001b[0m \u001b[0mexception\u001b[0m \u001b[1;32mif\u001b[0m \u001b[0mthe\u001b[0m \u001b[0mspeech\u001b[0m \u001b[0mrecognition\u001b[0m \u001b[0moperation\u001b[0m \u001b[0mfailed\u001b[0m\u001b[1;33m,\u001b[0m \u001b[1;32mif\u001b[0m \u001b[0mthe\u001b[0m \u001b[0mkey\u001b[0m \u001b[0misn\u001b[0m\u001b[0;31m'\u001b[0m\u001b[0mt\u001b[0m \u001b[0mvalid\u001b[0m\u001b[1;33m,\u001b[0m \u001b[1;32mor\u001b[0m \u001b[1;32mif\u001b[0m \u001b[0mthere\u001b[0m \u001b[1;32mis\u001b[0m \u001b[0mno\u001b[0m \u001b[0minternet\u001b[0m \u001b[0mconnection\u001b[0m\u001b[1;33m.\u001b[0m\u001b[1;33m\u001b[0m\u001b[1;33m\u001b[0m\u001b[0m\n\u001b[0;32m    688\u001b[0m         \"\"\"\n\u001b[1;32m--> 689\u001b[1;33m         \u001b[1;32massert\u001b[0m \u001b[0misinstance\u001b[0m\u001b[1;33m(\u001b[0m\u001b[0maudio_data\u001b[0m\u001b[1;33m,\u001b[0m \u001b[0mAudioData\u001b[0m\u001b[1;33m)\u001b[0m\u001b[1;33m,\u001b[0m \u001b[1;34m\"``audio_data`` must be audio data\"\u001b[0m\u001b[1;33m\u001b[0m\u001b[1;33m\u001b[0m\u001b[0m\n\u001b[0m\u001b[0;32m    690\u001b[0m         \u001b[1;32massert\u001b[0m \u001b[0mkey\u001b[0m \u001b[1;32mis\u001b[0m \u001b[1;32mNone\u001b[0m \u001b[1;32mor\u001b[0m \u001b[0misinstance\u001b[0m\u001b[1;33m(\u001b[0m\u001b[0mkey\u001b[0m\u001b[1;33m,\u001b[0m \u001b[0mstr\u001b[0m\u001b[1;33m)\u001b[0m\u001b[1;33m,\u001b[0m \u001b[1;34m\"``key`` must be ``None`` or a string\"\u001b[0m\u001b[1;33m\u001b[0m\u001b[1;33m\u001b[0m\u001b[0m\n\u001b[0;32m    691\u001b[0m         \u001b[1;32massert\u001b[0m \u001b[0misinstance\u001b[0m\u001b[1;33m(\u001b[0m\u001b[0mlanguage\u001b[0m\u001b[1;33m,\u001b[0m \u001b[0mstr\u001b[0m\u001b[1;33m)\u001b[0m\u001b[1;33m,\u001b[0m \u001b[1;34m\"``language`` must be a string\"\u001b[0m\u001b[1;33m\u001b[0m\u001b[1;33m\u001b[0m\u001b[0m\n",
      "\u001b[1;31mAssertionError\u001b[0m: ``audio_data`` must be audio data"
     ]
    }
   ],
   "source": [
    "import moviepy.editor as mp\n",
    "import speech_recognition as sr\n",
    "\n",
    "def transcribe_audio(audio_file):\n",
    "    recognizer = sr.Recognizer()\n",
    "    \n",
    "    try:\n",
    "        # Load the audio file\n",
    "        clip = mp.AudioFileClip(audio_file)\n",
    "        \n",
    "        # Convert the audio clip to WAV format (if it's not already)\n",
    "        if clip.fps != 44100:\n",
    "            clip = clip.set_fps(44100)\n",
    "        \n",
    "        audio_data = clip.to_soundarray()\n",
    "        \n",
    "        # Convert NumPy array to bytes\n",
    "        audio_bytes = audio_data.tobytes()\n",
    "        \n",
    "        # Recognize the audio using SpeechRecognition\n",
    "        transcript = recognizer.recognize_google(audio_bytes)\n",
    "        \n",
    "        return transcript\n",
    "    except sr.UnknownValueError:\n",
    "        return \"Could not understand the audio\"\n",
    "    except sr.RequestError as e:\n",
    "        return f\"Could not request results; {e}\"\n",
    "\n",
    "if __name__ == \"__main__\":\n",
    "    audio_file = \"Negative-call.m4a\"  # Replace with the path to your audio file (supporting various formats)\n",
    "    transcript = transcribe_audio(audio_file)\n",
    "    \n",
    "    print(\"Transcript:\")\n",
    "    print(transcript)"
   ]
  },
  {
   "cell_type": "markdown",
   "metadata": {},
   "source": [
    "Using transcript for analysis"
   ]
  },
  {
   "cell_type": "code",
   "execution_count": 1,
   "metadata": {},
   "outputs": [
    {
     "name": "stdout",
     "output_type": "stream",
     "text": [
      "Caller Sentiment: Positive\n",
      "Agent Recommendation: Agent, the caller is in a positive mood. Provide excellent service and thank them for their feedback.\n"
     ]
    }
   ],
   "source": [
    "from textblob import TextBlob\n",
    "from PIL import Image, ImageDraw\n",
    "import matplotlib\n",
    "\n",
    "def analyze_sentiment(text):\n",
    "    # Create a TextBlob object\n",
    "    blob = TextBlob(text)\n",
    "    \n",
    "    # Analyze sentiment\n",
    "    sentiment_score = blob.sentiment.polarity\n",
    "    \n",
    "    if sentiment_score > 0:\n",
    "        sentiment = \"Positive\"\n",
    "        color = \"green\"\n",
    "    elif sentiment_score < 0:\n",
    "        sentiment = \"Negative\"\n",
    "        color = \"red\"\n",
    "    else:\n",
    "        sentiment = \"Neutral\"\n",
    "        color = \"yellow\"\n",
    "    \n",
    "    return sentiment, color\n",
    "\n",
    "def main():\n",
    "    # Input the transcript from a file\n",
    "    file_path = \"Sample Call 3.txt\"  # Replace with your file path\n",
    "    try:\n",
    "        with open(file_path, \"r\", encoding=\"utf-8\") as file:\n",
    "            transcript = file.read()\n",
    "    except FileNotFoundError:\n",
    "        print(\"Error: The specified file was not found.\")\n",
    "        return\n",
    "\n",
    "    # Analyze sentiment\n",
    "    caller_sentiment, color = analyze_sentiment(transcript)\n",
    "\n",
    "    # Create a colored square image\n",
    "    square_size = (100, 100)\n",
    "    square = Image.new(\"RGB\", square_size, color)\n",
    "\n",
    "    # Display the colored square\n",
    "    square.show()\n",
    "\n",
    "    # Print sentiment analysis and agent recommendation\n",
    "    print(f\"Caller Sentiment: {caller_sentiment}\")\n",
    "\n",
    "    # Provide agent recommendations based on sentiment\n",
    "    if caller_sentiment == \"Positive\":\n",
    "        agent_recommendation = \"Agent, the caller is in a positive mood. Provide excellent service and thank them for their feedback.\"\n",
    "    elif caller_sentiment == \"Negative\":\n",
    "        agent_recommendation = \"Agent, the caller seems unhappy. Be empathetic, listen carefully, and try to resolve their issue.\"\n",
    "    else:\n",
    "        agent_recommendation = \"Agent, the caller's sentiment is neutral. Provide standard assistance and be attentive to their needs.\"\n",
    "\n",
    "    print(f\"Agent Recommendation: {agent_recommendation}\")\n",
    "\n",
    "if __name__ == \"__main__\":\n",
    "    main()"
   ]
  },
  {
   "cell_type": "code",
   "execution_count": 3,
   "metadata": {},
   "outputs": [
    {
     "name": "stdout",
     "output_type": "stream",
     "text": [
      "Caller Sentiment: Positive\n",
      "Agent Recommendation: Agent, the caller is in a positive mood. Provide excellent service and thank them for their feedback.\n"
     ]
    }
   ],
   "source": [
    "from textblob import TextBlob\n",
    "from PIL import Image, ImageDraw\n",
    "import matplotlib\n",
    "\n",
    "def analyze_sentiment(text):\n",
    "    # Create a TextBlob object\n",
    "    blob = TextBlob(text)\n",
    "    \n",
    "    # Analyze sentiment\n",
    "    sentiment_score = blob.sentiment.polarity\n",
    "    \n",
    "    if sentiment_score > 0:\n",
    "        sentiment = \"Positive\"\n",
    "        color = \"green\"\n",
    "    elif sentiment_score < 0:\n",
    "        sentiment = \"Negative\"\n",
    "        color = \"red\"\n",
    "    else:\n",
    "        sentiment = \"Neutral\"\n",
    "        color = \"yellow\"\n",
    "    \n",
    "    return sentiment, color\n",
    "\n",
    "def main():\n",
    "    # Ask the user for the input transcript file path\n",
    "    employee_ID = input(\"Please enter your employee ID\")\n",
    "    file_path = input(\"Please enter the path to the transcript file: \")\n",
    "\n",
    "    try:\n",
    "        with open(file_path, \"r\", encoding=\"utf-8\") as file:\n",
    "            transcript = file.read()\n",
    "    except FileNotFoundError:\n",
    "        print(\"Error: The specified file was not found.\")\n",
    "        return\n",
    "\n",
    "    # Analyze sentiment\n",
    "    caller_sentiment, color = analyze_sentiment(transcript)\n",
    "\n",
    "    # Create a colored square image\n",
    "    square_size = (100, 100)\n",
    "    square = Image.new(\"RGB\", square_size, color)\n",
    "\n",
    "    # Display the colored square\n",
    "    square.show()\n",
    "\n",
    "    # Print sentiment analysis and agent recommendation\n",
    "    print(f\"Caller Sentiment: {caller_sentiment}\")\n",
    "\n",
    "    # Provide agent recommendations based on sentiment\n",
    "    if caller_sentiment == \"Positive\":\n",
    "        agent_recommendation = \"Agent, the caller is in a positive mood. Provide excellent service and thank them for their feedback.\"\n",
    "    elif caller_sentiment == \"Negative\":\n",
    "        agent_recommendation = \"Agent, the caller seems unhappy. Be empathetic, listen carefully, and try to resolve their issue.\"\n",
    "    else:\n",
    "        agent_recommendation = \"Agent, the caller's sentiment is neutral. Provide standard assistance and be attentive to their needs.\"\n",
    "\n",
    "    print(f\"Agent Recommendation: {agent_recommendation}\")\n",
    "\n",
    "if __name__ == \"__main__\":\n",
    "    main()\n"
   ]
  },
  {
   "cell_type": "markdown",
   "metadata": {},
   "source": [
    "Program with CSV file output"
   ]
  },
  {
   "cell_type": "code",
   "execution_count": 11,
   "metadata": {},
   "outputs": [
    {
     "name": "stdout",
     "output_type": "stream",
     "text": [
      "Caller Sentiment: Negative\n",
      "Sentiment Score: 0.08530092592592592\n",
      "Your credit score was affected by: -100\n",
      "Agent Recommendation: Agent, the caller seems unhappy. Be empathetic, listen carefully, and try to resolve their issue.\n"
     ]
    }
   ],
   "source": [
    "from textblob import TextBlob\n",
    "from PIL import Image, ImageDraw\n",
    "import matplotlib\n",
    "import csv\n",
    "import os\n",
    "\n",
    "def analyze_sentiment(text):\n",
    "    # Create a TextBlob object\n",
    "    blob = TextBlob(text)\n",
    "    \n",
    "    # Analyze sentiment\n",
    "    sentiment_score = blob.sentiment.polarity\n",
    "    \n",
    "    if sentiment_score > 0.1:\n",
    "        sentiment = \"Positive\"\n",
    "        color = \"green\"\n",
    "        credit = \"+100\"\n",
    "    elif sentiment_score < 0.1:\n",
    "        sentiment = \"Negative\"\n",
    "        color = \"red\"\n",
    "        credit = \"-100\"\n",
    "    else:\n",
    "        sentiment = \"Neutral\"\n",
    "        color = \"yellow\"\n",
    "        credit = \"+10\"\n",
    "    \n",
    "    return sentiment, sentiment_score, color, credit\n",
    "\n",
    "def save_to_csv(file_path, data):\n",
    "    file_exists = os.path.isfile(file_path)\n",
    "    \n",
    "    with open(file_path, \"a\", newline=\"\") as csvfile:\n",
    "        fieldnames = [\"Employee ID\",\"Caller Sentiment\", \"Sentiment Score\",\"Credits\", \"Color\"]\n",
    "        writer = csv.DictWriter(csvfile, fieldnames=fieldnames)\n",
    "        \n",
    "        if not file_exists:\n",
    "            writer.writeheader()\n",
    "        \n",
    "        writer.writerow(data)\n",
    "\n",
    "def main():\n",
    "    # Ask the user for the input transcript file path\n",
    "    employee_ID = input(\"Enter Employee ID: \")\n",
    "    file_path = input(\"Please enter the path to the transcript file: \")\n",
    "\n",
    "    try:\n",
    "        with open(file_path, \"r\", encoding=\"utf-8\") as file:\n",
    "            transcript = file.read()\n",
    "    except FileNotFoundError:\n",
    "        print(\"Error: The specified file was not found.\")\n",
    "        return\n",
    "\n",
    "    # Analyze sentiment\n",
    "    caller_sentiment, sentiment_score, color, credit = analyze_sentiment(transcript)\n",
    "\n",
    "    # Create a colored square image\n",
    "    square_size = (100, 100)\n",
    "    square = Image.new(\"RGB\", square_size, color)\n",
    "\n",
    "    # Display the colored square\n",
    "    square.show()\n",
    "\n",
    "    # Print sentiment analysis and agent recommendation\n",
    "    print(f\"Caller Sentiment: {caller_sentiment}\")\n",
    "    print(f\"Sentiment Score: {sentiment_score}\")\n",
    "    print(f\"Your credit score was affected by: {credit}\")\n",
    "\n",
    "    # Provide agent recommendations based on sentiment\n",
    "    if caller_sentiment == \"Positive\":\n",
    "        agent_recommendation = \"Agent, the caller is in a positive mood. Provide excellent service and thank them for their feedback.\"\n",
    "    elif caller_sentiment == \"Negative\":\n",
    "        agent_recommendation = \"Agent, the caller seems unhappy. Be empathetic, listen carefully, and try to resolve their issue.\"\n",
    "    else:\n",
    "        agent_recommendation = \"Agent, the caller's sentiment is neutral. Provide standard assistance and be attentive to their needs.\"\n",
    "\n",
    "    print(f\"Agent Recommendation: {agent_recommendation}\")\n",
    "\n",
    "    # Save caller sentiment and sentiment score to a CSV file\n",
    "    data = {\"Employee ID\": employee_ID, \"Caller Sentiment\": caller_sentiment, \"Sentiment Score\": sentiment_score, \"Credits\": credit, \"Color\": color}\n",
    "    csv_file_path = \"sentiment_data.csv\"  # Replace with your desired CSV file path\n",
    "    save_to_csv(csv_file_path, data)\n",
    "\n",
    "if __name__ == \"__main__\":\n",
    "    main()"
   ]
  }
 ],
 "metadata": {
  "kernelspec": {
   "display_name": "base",
   "language": "python",
   "name": "python3"
  },
  "language_info": {
   "codemirror_mode": {
    "name": "ipython",
    "version": 3
   },
   "file_extension": ".py",
   "mimetype": "text/x-python",
   "name": "python",
   "nbconvert_exporter": "python",
   "pygments_lexer": "ipython3",
   "version": "3.8.8"
  },
  "orig_nbformat": 4
 },
 "nbformat": 4,
 "nbformat_minor": 2
}
